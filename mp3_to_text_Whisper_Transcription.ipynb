{
 "cells": [
  {
   "cell_type": "code",
   "execution_count": 2,
   "id": "6e1f6540-c732-48b5-89e7-932133344033",
   "metadata": {
    "scrolled": true
   },
   "outputs": [
    {
     "name": "stdout",
     "output_type": "stream",
     "text": [
      "* Running on local URL:  http://127.0.0.1:7861\n",
      "* To create a public link, set `share=True` in `launch()`.\n"
     ]
    },
    {
     "data": {
      "text/html": [
       "<div><iframe src=\"http://127.0.0.1:7861/\" width=\"100%\" height=\"500\" allow=\"autoplay; camera; microphone; clipboard-read; clipboard-write;\" frameborder=\"0\" allowfullscreen></iframe></div>"
      ],
      "text/plain": [
       "<IPython.core.display.HTML object>"
      ]
     },
     "metadata": {},
     "output_type": "display_data"
    }
   ],
   "source": [
    "import gradio as gr\n",
    "from transformers import pipeline\n",
    "\n",
    "def load_models():\n",
    "    base_pipe = pipeline(\"automatic-speech-recognition\", model=\"openai/whisper-base\")\n",
    "    small_pipe = pipeline(\"automatic-speech-recognition\", model=\"openai/whisper-small\")\n",
    "    return base_pipe, small_pipe\n",
    "\n",
    "def transcribe(audio, model_name):\n",
    "    base_pipe, small_pipe = load_models()\n",
    "    pipe = base_pipe if model_name == \"Base\" else small_pipe\n",
    "    result = pipe(audio)\n",
    "    return result[\"text\"]\n",
    "\n",
    "def process_audio(audio):\n",
    "    if audio is None:\n",
    "        return \"No audio uploaded.\", \"\"\n",
    "    base_text = transcribe(audio, \"Base\")\n",
    "    small_text = transcribe(audio, \"Small\")\n",
    "    return base_text, small_text\n",
    "\n",
    "# Gradio interface\n",
    "with gr.Blocks() as demo:\n",
    "    gr.Markdown(\"## Hugging Face Whisper Transcription\")\n",
    "    audio_input = gr.Audio(type=\"filepath\", label=\"Upload MP3\")\n",
    "    submit_button = gr.Button(\"Transcribe\")\n",
    "    base_output = gr.Textbox(label=\"Base Model Transcription\")\n",
    "    small_output = gr.Textbox(label=\"Small Model Transcription\")\n",
    "    submit_button.click(process_audio, inputs=audio_input, outputs=[base_output, small_output])\n",
    "\n",
    "if __name__ == \"__main__\":\n",
    "    demo.launch()"
   ]
  },
  {
   "cell_type": "code",
   "execution_count": null,
   "id": "530ce90e-c27a-44a9-81cd-dcb2744d7db1",
   "metadata": {},
   "outputs": [],
   "source": []
  },
  {
   "cell_type": "code",
   "execution_count": null,
   "id": "a1591846-90d8-4f28-895a-0974d6eb4b5b",
   "metadata": {},
   "outputs": [],
   "source": []
  },
  {
   "cell_type": "code",
   "execution_count": null,
   "id": "391900fd-23d0-4a83-bf17-249b78e3c53c",
   "metadata": {},
   "outputs": [],
   "source": []
  }
 ],
 "metadata": {
  "kernelspec": {
   "display_name": "Python 3 (ipykernel)",
   "language": "python",
   "name": "python3"
  },
  "language_info": {
   "codemirror_mode": {
    "name": "ipython",
    "version": 3
   },
   "file_extension": ".py",
   "mimetype": "text/x-python",
   "name": "python",
   "nbconvert_exporter": "python",
   "pygments_lexer": "ipython3",
   "version": "3.10.11"
  }
 },
 "nbformat": 4,
 "nbformat_minor": 5
}
